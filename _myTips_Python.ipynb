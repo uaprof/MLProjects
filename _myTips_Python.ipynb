{
  "nbformat": 4,
  "nbformat_minor": 0,
  "metadata": {
    "colab": {
      "name": "_myTips_Python",
      "provenance": [],
      "collapsed_sections": [],
      "authorship_tag": "ABX9TyNqBTcfA6NFFwd5yZr25JRA",
      "include_colab_link": true
    },
    "kernelspec": {
      "name": "python3",
      "display_name": "Python 3"
    }
  },
  "cells": [
    {
      "cell_type": "markdown",
      "metadata": {
        "id": "view-in-github",
        "colab_type": "text"
      },
      "source": [
        "<a href=\"https://colab.research.google.com/github/uaprof/MLProjects/blob/master/_myTips_Python.ipynb\" target=\"_parent\"><img src=\"https://colab.research.google.com/assets/colab-badge.svg\" alt=\"Open In Colab\"/></a>"
      ]
    },
    {
      "cell_type": "markdown",
      "metadata": {
        "id": "L5p5Y0gMN1gR",
        "colab_type": "text"
      },
      "source": [
        "#My tips and Tricks"
      ]
    },
    {
      "cell_type": "markdown",
      "metadata": {
        "id": "yM7nNFRTRn6_",
        "colab_type": "text"
      },
      "source": [
        "##Pandas useful code"
      ]
    },
    {
      "cell_type": "markdown",
      "metadata": {
        "id": "FdT3gsETTMx7",
        "colab_type": "text"
      },
      "source": [
        "###Basics"
      ]
    },
    {
      "cell_type": "code",
      "metadata": {
        "id": "7lzgF7poRnKa",
        "colab_type": "code",
        "colab": {}
      },
      "source": [
        "# A Simple array or integers\n",
        "a = [1,2,3]\n",
        "\n",
        "# Slicing lists is a technique used to get elements from, before or between different indices\n",
        "\n",
        "print(\"All elelemts: \", a[:])\n",
        "print(\"All elements from the 3rd position onward: \", a[2:])\n",
        "print(\"All elements between the 2nd and 4th position: \", a[1:3])\n",
        "print(\"All elements before the last postion\", a[:-1])\n",
        "\n",
        "# Very useful guide:\n",
        "\n",
        "#a[start:stop]  # items start through stop-1\n",
        "#a[start:]      # items start through the rest of the array\n",
        "#a[:stop]       # items from the beginning through stop-1\n",
        "#a[:]           # a copy of the whole array"
      ],
      "execution_count": null,
      "outputs": []
    },
    {
      "cell_type": "code",
      "metadata": {
        "id": "q8acY46SSH8E",
        "colab_type": "code",
        "colab": {}
      },
      "source": [
        "country_info = {\"name\": \"Japan\",\n",
        "        \"capital\": \"Tokyo\"}\n",
        "\n",
        "print(country_info)\n",
        "print(country_info[\"name\"])\n",
        "print(country_info[\"capital\"])"
      ],
      "execution_count": null,
      "outputs": []
    },
    {
      "cell_type": "code",
      "metadata": {
        "id": "gSqvM6VISZwP",
        "colab_type": "code",
        "colab": {
          "base_uri": "https://localhost:8080/",
          "height": 35
        },
        "outputId": "b4953c22-13eb-4971-b0b6-0df9fcdd0e04"
      },
      "source": [
        "# Creating a class\n",
        "class Book(object):\n",
        "    \"\"\"Class object for a book\"\"\"\n",
        "  \n",
        "    def __init__(self, title, author):\n",
        "        \"\"\"Initialize a new Book\"\"\"\n",
        "        self.title = title\n",
        "        self.author = author\n",
        "    \n",
        "    def __str__(self):\n",
        "      return self.title\n",
        "    \n",
        "    def change_book_name(self, new_name):\n",
        "      self.title = new_name\n",
        "\n",
        "my_book = Book(title=\"The very good book\", author=\"Vladimir Vorontcov\")\n",
        "my_book.change_book_name('New neme beter')\n",
        "my_book.author"
      ],
      "execution_count": null,
      "outputs": [
        {
          "output_type": "execute_result",
          "data": {
            "application/vnd.google.colaboratory.intrinsic+json": {
              "type": "string"
            },
            "text/plain": [
              "'Vladimir Vorontcov|'"
            ]
          },
          "metadata": {
            "tags": []
          },
          "execution_count": 1
        }
      ]
    },
    {
      "cell_type": "markdown",
      "metadata": {
        "id": "gYFnNVJ5TVj7",
        "colab_type": "text"
      },
      "source": [
        "###Time Series"
      ]
    },
    {
      "cell_type": "code",
      "metadata": {
        "id": "AfuZo_b5S8uc",
        "colab_type": "code",
        "colab": {}
      },
      "source": [
        "a = [1,4,3,7,2,6,3]\n",
        "a = pd.Series(a)\n",
        "\n",
        "a.max()\n",
        "\n",
        "# Sort by placing the highest number first\n",
        "a.sort_values(ascending=False)\n",
        "a.value_counts()"
      ],
      "execution_count": null,
      "outputs": []
    },
    {
      "cell_type": "markdown",
      "metadata": {
        "id": "TGAXjVNQUMpy",
        "colab_type": "text"
      },
      "source": [
        "###Data Frames"
      ]
    },
    {
      "cell_type": "code",
      "metadata": {
        "id": "thjcEqGEUPcL",
        "colab_type": "code",
        "colab": {}
      },
      "source": [
        "import pandas as pd\n",
        "# Load our CSV file using pandas\n",
        "file_name = \"https://raw.githubusercontent.com/rajeevratan84/datascienceforbusiness/master/titanic.csv\"\n",
        "df = pd.read_csv(file_name)\n",
        "df.head()"
      ],
      "execution_count": null,
      "outputs": []
    },
    {
      "cell_type": "code",
      "metadata": {
        "id": "u7-qpvqBUkYL",
        "colab_type": "code",
        "colab": {}
      },
      "source": [
        "# Expore the data using summary statistics\n",
        "\n",
        "df.describe()\n",
        "df.info()"
      ],
      "execution_count": null,
      "outputs": []
    },
    {
      "cell_type": "code",
      "metadata": {
        "id": "XJKp66jq0eMV",
        "colab_type": "code",
        "colab": {}
      },
      "source": [
        "# Create a list\n",
        "list_a = ['a', 'b', 'c']\n",
        "df_a = pd.DataFrame(list_a)\n",
        "\n",
        "dict_df = pd.DataFrame({\n",
        "    'http_status': [200,200,404,404,301],\n",
        "    'response_time': [0.04, 0.02, 0.07, 0.08, 1.0]})\n",
        "# Examing Dataframe\n",
        "df.dtypes\n",
        "df.columns\n",
        "# viewing one column\n",
        "df['name']"
      ],
      "execution_count": null,
      "outputs": []
    },
    {
      "cell_type": "code",
      "metadata": {
        "id": "XoYwijZG09_W",
        "colab_type": "code",
        "colab": {}
      },
      "source": [
        "# Indexing and selecting segments of our Data Frame\n",
        "\n",
        "# df.loc[row_label, column_label]\n",
        "df.loc[1,\"name\"]\n",
        "\n",
        "# Slicing an entire column\n",
        "df.loc[:,\"name\"]\n",
        "\n",
        "names = df.loc[:,\"name\"] \n",
        "\n",
        "# Slicing a row\n",
        "df.loc[0,:]"
      ],
      "execution_count": null,
      "outputs": []
    },
    {
      "cell_type": "code",
      "metadata": {
        "id": "fLJIl1qk1bcJ",
        "colab_type": "code",
        "colab": {}
      },
      "source": [
        "# Slicing using iloc\n",
        "# df.iloc[row_index, column_index]\n",
        "# loc: label based selection\n",
        "# iloc: integer position based selection\n",
        "\n",
        "df.iloc[0,1]\n",
        "df.iloc[0]"
      ],
      "execution_count": null,
      "outputs": []
    },
    {
      "cell_type": "code",
      "metadata": {
        "id": "2kC9nvlP1zwU",
        "colab_type": "code",
        "colab": {}
      },
      "source": [
        "# Slicing mulitple columns\n",
        "df.loc[:,[\"name\", \"sex\"]] \n",
        "\n",
        "# An alternative way of slicing columns \n",
        "df[[\"name\", \"sex\"]]\n",
        "\n",
        "# Slicing rows is similar as well\n",
        "df.loc[2:4,:]\n"
      ],
      "execution_count": null,
      "outputs": []
    },
    {
      "cell_type": "code",
      "metadata": {
        "id": "2qCekn-R2OG0",
        "colab_type": "code",
        "colab": {}
      },
      "source": [
        "# Descriptive Stats on Series\n",
        "#.value_counts()\n",
        "\n",
        "df['sex'].describe()\n",
        "\n",
        "# count - number of rows or values in that column\n",
        "# unique - number of unique categories in the column\n",
        "# top - most populous category\n",
        "# freq - count of the most popular category\n",
        "\n",
        "# Let's learn a new function called unique\n",
        "df['pclass'].unique()\n"
      ],
      "execution_count": null,
      "outputs": []
    },
    {
      "cell_type": "code",
      "metadata": {
        "id": "so_K0__-2tux",
        "colab_type": "code",
        "colab": {}
      },
      "source": [
        "# Descriptive Stats on DataFrames\n",
        "\n",
        "df[[\"fare\",\"age\"]].mean()\n",
        "# Specifying the axies\n",
        "# Note Axis = 0 is used by default and calculates the column statistics\n",
        "df[[\"fare\",\"age\"]].mean(axis=0)\n",
        "\n"
      ],
      "execution_count": null,
      "outputs": []
    },
    {
      "cell_type": "code",
      "metadata": {
        "id": "i-nZCJ3B27j9",
        "colab_type": "code",
        "colab": {}
      },
      "source": [
        "# Filtering using Boolean Operations\n",
        "df['pclass'] == 1\n",
        "df['age'] > 70\n",
        "\n",
        "# Viewing on those that are true\n",
        "df[df['age'] > 70]\n",
        "\n",
        "# Filtering on exact cell values\n",
        "df[df['name'] == 'Barkworth, Mr. Algernon Henry Wilson']\n"
      ],
      "execution_count": null,
      "outputs": []
    },
    {
      "cell_type": "code",
      "metadata": {
        "id": "ZDvnKetf3Sbn",
        "colab_type": "code",
        "colab": {}
      },
      "source": [
        "# Finding empty cells using isnull()\n",
        "df.isnull()\n",
        "df['cabin'].isnull()\n",
        "df[df['cabin'].isnull()]\n",
        "df[df['cabin'].notnull()]"
      ],
      "execution_count": null,
      "outputs": []
    },
    {
      "cell_type": "code",
      "metadata": {
        "id": "0q-0VGBS3tnC",
        "colab_type": "code",
        "colab": {}
      },
      "source": [
        "# Combining Boolean Filtering\n",
        "over_60_and_under_5 = (df['age'] > 60) | (df['age'] < 5)\n",
        "df[over_60_and_under_5]\n"
      ],
      "execution_count": null,
      "outputs": []
    },
    {
      "cell_type": "markdown",
      "metadata": {
        "id": "Ph5x4Xcn4OsN",
        "colab_type": "text"
      },
      "source": [
        "###Pandas - Data Cleaning"
      ]
    },
    {
      "cell_type": "code",
      "metadata": {
        "id": "WhrNlOnq4k4B",
        "colab_type": "code",
        "colab": {}
      },
      "source": [
        ""
      ],
      "execution_count": null,
      "outputs": []
    },
    {
      "cell_type": "markdown",
      "metadata": {
        "id": "xtibPolyN_uq",
        "colab_type": "text"
      },
      "source": [
        "##Explanatory Analysis"
      ]
    },
    {
      "cell_type": "code",
      "metadata": {
        "id": "0f2EOZslM6H9",
        "colab_type": "code",
        "colab": {}
      },
      "source": [
        ""
      ],
      "execution_count": null,
      "outputs": []
    }
  ]
}