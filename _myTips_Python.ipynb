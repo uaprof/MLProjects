{
  "nbformat": 4,
  "nbformat_minor": 0,
  "metadata": {
    "colab": {
      "name": "_myTips_Python",
      "provenance": [],
      "collapsed_sections": [],
      "authorship_tag": "ABX9TyOxhD9hPoIVxPlc+eEW7Iar",
      "include_colab_link": true
    },
    "kernelspec": {
      "name": "python3",
      "display_name": "Python 3"
    }
  },
  "cells": [
    {
      "cell_type": "markdown",
      "metadata": {
        "id": "view-in-github",
        "colab_type": "text"
      },
      "source": [
        "<a href=\"https://colab.research.google.com/github/uaprof/MLProjects/blob/master/_myTips_Python.ipynb\" target=\"_parent\"><img src=\"https://colab.research.google.com/assets/colab-badge.svg\" alt=\"Open In Colab\"/></a>"
      ]
    },
    {
      "cell_type": "markdown",
      "metadata": {
        "id": "L5p5Y0gMN1gR",
        "colab_type": "text"
      },
      "source": [
        "#My tips and Tricks"
      ]
    },
    {
      "cell_type": "markdown",
      "metadata": {
        "id": "xtibPolyN_uq",
        "colab_type": "text"
      },
      "source": [
        "##Explanatory Analysis"
      ]
    },
    {
      "cell_type": "code",
      "metadata": {
        "id": "0f2EOZslM6H9",
        "colab_type": "code",
        "colab": {}
      },
      "source": [
        ""
      ],
      "execution_count": null,
      "outputs": []
    }
  ]
}