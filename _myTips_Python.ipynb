{
  "nbformat": 4,
  "nbformat_minor": 0,
  "metadata": {
    "colab": {
      "name": "_myTips_Python",
      "provenance": [],
      "collapsed_sections": [],
      "authorship_tag": "ABX9TyNGmBIRlBDHYihBHPOfpAk9",
      "include_colab_link": true
    },
    "kernelspec": {
      "name": "python3",
      "display_name": "Python 3"
    }
  },
  "cells": [
    {
      "cell_type": "markdown",
      "metadata": {
        "id": "view-in-github",
        "colab_type": "text"
      },
      "source": [
        "<a href=\"https://colab.research.google.com/github/uaprof/MLProjects/blob/master/_myTips_Python.ipynb\" target=\"_parent\"><img src=\"https://colab.research.google.com/assets/colab-badge.svg\" alt=\"Open In Colab\"/></a>"
      ]
    },
    {
      "cell_type": "markdown",
      "metadata": {
        "id": "L5p5Y0gMN1gR",
        "colab_type": "text"
      },
      "source": [
        "#My tips and Tricks"
      ]
    },
    {
      "cell_type": "markdown",
      "metadata": {
        "id": "yM7nNFRTRn6_",
        "colab_type": "text"
      },
      "source": [
        "##Pandas useful code"
      ]
    },
    {
      "cell_type": "markdown",
      "metadata": {
        "id": "FdT3gsETTMx7",
        "colab_type": "text"
      },
      "source": [
        "###Basics"
      ]
    },
    {
      "cell_type": "code",
      "metadata": {
        "id": "7lzgF7poRnKa",
        "colab_type": "code",
        "colab": {}
      },
      "source": [
        "# A Simple array or integers\n",
        "a = [1,2,3]\n",
        "\n",
        "# Slicing lists is a technique used to get elements from, before or between different indices\n",
        "\n",
        "print(\"All elelemts: \", a[:])\n",
        "print(\"All elements from the 3rd position onward: \", a[2:])\n",
        "print(\"All elements between the 2nd and 4th position: \", a[1:3])\n",
        "print(\"All elements before the last postion\", a[:-1])\n",
        "\n",
        "# Very useful guide:\n",
        "\n",
        "#a[start:stop]  # items start through stop-1\n",
        "#a[start:]      # items start through the rest of the array\n",
        "#a[:stop]       # items from the beginning through stop-1\n",
        "#a[:]           # a copy of the whole array"
      ],
      "execution_count": null,
      "outputs": []
    },
    {
      "cell_type": "code",
      "metadata": {
        "id": "q8acY46SSH8E",
        "colab_type": "code",
        "colab": {}
      },
      "source": [
        "country_info = {\"name\": \"Japan\",\n",
        "        \"capital\": \"Tokyo\"}\n",
        "\n",
        "print(country_info)\n",
        "print(country_info[\"name\"])\n",
        "print(country_info[\"capital\"])"
      ],
      "execution_count": null,
      "outputs": []
    },
    {
      "cell_type": "code",
      "metadata": {
        "id": "gSqvM6VISZwP",
        "colab_type": "code",
        "colab": {
          "base_uri": "https://localhost:8080/",
          "height": 35
        },
        "outputId": "b4953c22-13eb-4971-b0b6-0df9fcdd0e04"
      },
      "source": [
        "# Creating a class\n",
        "class Book(object):\n",
        "    \"\"\"Class object for a book\"\"\"\n",
        "  \n",
        "    def __init__(self, title, author):\n",
        "        \"\"\"Initialize a new Book\"\"\"\n",
        "        self.title = title\n",
        "        self.author = author\n",
        "    \n",
        "    def __str__(self):\n",
        "      return self.title\n",
        "    \n",
        "    def change_book_name(self, new_name):\n",
        "      self.title = new_name\n",
        "\n",
        "my_book = Book(title=\"The very good book\", author=\"Vladimir Vorontcov\")\n",
        "my_book.change_book_name('New neme beter')\n",
        "my_book.author"
      ],
      "execution_count": 1,
      "outputs": [
        {
          "output_type": "execute_result",
          "data": {
            "application/vnd.google.colaboratory.intrinsic+json": {
              "type": "string"
            },
            "text/plain": [
              "'Vladimir Vorontcov|'"
            ]
          },
          "metadata": {
            "tags": []
          },
          "execution_count": 1
        }
      ]
    },
    {
      "cell_type": "markdown",
      "metadata": {
        "id": "gYFnNVJ5TVj7",
        "colab_type": "text"
      },
      "source": [
        "###Time Series"
      ]
    },
    {
      "cell_type": "code",
      "metadata": {
        "id": "AfuZo_b5S8uc",
        "colab_type": "code",
        "colab": {}
      },
      "source": [
        "a = [1,4,3,7,2,6,3]\n",
        "a = pd.Series(a)\n",
        "\n",
        "a.max()\n",
        "\n",
        "# Sort by placing the highest number first\n",
        "a.sort_values(ascending=False)\n",
        "a.value_counts()"
      ],
      "execution_count": null,
      "outputs": []
    },
    {
      "cell_type": "markdown",
      "metadata": {
        "id": "TGAXjVNQUMpy",
        "colab_type": "text"
      },
      "source": [
        "###Data Frames"
      ]
    },
    {
      "cell_type": "code",
      "metadata": {
        "id": "thjcEqGEUPcL",
        "colab_type": "code",
        "colab": {}
      },
      "source": [
        "import pandas as pd\n",
        "# Load our CSV file using pandas\n",
        "file_name = \"https://raw.githubusercontent.com/rajeevratan84/datascienceforbusiness/master/titanic.csv\"\n",
        "df = pd.read_csv(file_name)\n",
        "df.head()"
      ],
      "execution_count": null,
      "outputs": []
    },
    {
      "cell_type": "code",
      "metadata": {
        "id": "u7-qpvqBUkYL",
        "colab_type": "code",
        "colab": {}
      },
      "source": [
        ""
      ],
      "execution_count": null,
      "outputs": []
    },
    {
      "cell_type": "markdown",
      "metadata": {
        "id": "xtibPolyN_uq",
        "colab_type": "text"
      },
      "source": [
        "##Explanatory Analysis"
      ]
    },
    {
      "cell_type": "code",
      "metadata": {
        "id": "0f2EOZslM6H9",
        "colab_type": "code",
        "colab": {}
      },
      "source": [
        ""
      ],
      "execution_count": null,
      "outputs": []
    }
  ]
}